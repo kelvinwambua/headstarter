{
 "cells": [
  {
   "cell_type": "code",
   "execution_count": null,
   "metadata": {},
   "outputs": [],
   "source": [
    "import pandas as pd\n",
    "import matplotlib.pyplot as plt\n",
    "import seaborn as sns\n",
    "\n",
    "# Load processed data\n",
    "data = pd.read_csv('../data/processed/processed_data.csv')\n",
    "\n",
    "# Display first few rows\n",
    "data.head()\n",
    "\n",
    "# Example visualization\n",
    "sns.countplot(data['column_of_interest'])\n",
    "plt.show()\n"
   ]
  }
 ],
 "metadata": {
  "language_info": {
   "name": "python"
  }
 },
 "nbformat": 4,
 "nbformat_minor": 2
}
